{
 "cells": [
  {
   "cell_type": "markdown",
   "id": "3d558f77-c349-420f-84c4-cd1f9ceba2d8",
   "metadata": {},
   "source": [
    "Go to this given URL and solve the following questions\n",
    "URL: https://www.youtube.com/@PW-Foundation/videos\n",
    "Q1. Write a python program to extract the video URL of the first five videos.\n",
    "Q2. Write a python program to extract the URL of the video thumbnails of the first five videos.\n",
    "Q3. Write a python program to extract the title of the first five videos.\n",
    "Q4. Write a python program to extract the number of views of the first five videos.\n",
    "Q5. Write a python program to extract the time of posting of video for the first five videos.\n",
    "Note: Save all the data scraped in the above questions in a CSV file."
   ]
  },
  {
   "cell_type": "markdown",
   "id": "2d98afa9-cdf4-49ed-a74e-6a928607ee54",
   "metadata": {},
   "source": [
    "To scrape data from the given YouTube URL, we can use Python along with the Beautiful Soup library for web scraping. Additionally, we can use the `requests` library to make HTTP requests to fetch the webpage content. Below are Python programs to solve each of the mentioned questions and save the scraped data into a CSV file:\n",
    "\n",
    "```python\n",
    "import requests\n",
    "from bs4 import BeautifulSoup\n",
    "import csv\n",
    "\n",
    "# Function to extract video details from the given URL\n",
    "def extract_video_details(url):\n",
    "    response = requests.get(url)\n",
    "    soup = BeautifulSoup(response.text, 'html.parser')\n",
    "    videos = soup.find_all('a', class_='yt-simple-endpoint style-scope ytd-grid-video-renderer')\n",
    "\n",
    "    video_data = []\n",
    "\n",
    "    for video in videos[:5]:  # Extract details of the first five videos\n",
    "        video_url = f\"https://www.youtube.com{video['href']}\"\n",
    "        thumbnail_url = video.find('img')['src']\n",
    "        title = video.find('span', class_='style-scope').text.strip()\n",
    "        views = video.find('span', class_='style-scope ytd-grid-video-renderer').text.strip()\n",
    "        time_posted = video.find('span', class_='style-scope ytd-grid-video-renderer').text.strip()\n",
    "\n",
    "        video_data.append([video_url, thumbnail_url, title, views, time_posted])\n",
    "\n",
    "    return video_data\n",
    "\n",
    "# Function to save video details to a CSV file\n",
    "def save_to_csv(data, filename):\n",
    "    with open(filename, 'w', newline='', encoding='utf-8') as csvfile:\n",
    "        writer = csv.writer(csvfile)\n",
    "        writer.writerow(['Video URL', 'Thumbnail URL', 'Title', 'Views', 'Time Posted'])\n",
    "        writer.writerows(data)\n",
    "\n",
    "# URL of the YouTube channel\n",
    "url = \"https://www.youtube.com/@PW-Foundation/videos\"\n",
    "\n",
    "# Extract video details\n",
    "video_details = extract_video_details(url)\n",
    "\n",
    "# Save to CSV\n",
    "save_to_csv(video_details, \"youtube_videos.csv\")"
   ]
  },
  {
   "cell_type": "code",
   "execution_count": null,
   "id": "db6f7a23-c906-454b-8073-78f8162a634b",
   "metadata": {},
   "outputs": [],
   "source": []
  }
 ],
 "metadata": {
  "kernelspec": {
   "display_name": "Python 3 (ipykernel)",
   "language": "python",
   "name": "python3"
  },
  "language_info": {
   "codemirror_mode": {
    "name": "ipython",
    "version": 3
   },
   "file_extension": ".py",
   "mimetype": "text/x-python",
   "name": "python",
   "nbconvert_exporter": "python",
   "pygments_lexer": "ipython3",
   "version": "3.10.8"
  }
 },
 "nbformat": 4,
 "nbformat_minor": 5
}
